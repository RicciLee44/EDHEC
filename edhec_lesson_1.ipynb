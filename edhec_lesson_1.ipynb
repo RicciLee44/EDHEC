{
  "nbformat": 4,
  "nbformat_minor": 0,
  "metadata": {
    "colab": {
      "provenance": []
    },
    "kernelspec": {
      "name": "python3",
      "display_name": "Python 3"
    },
    "language_info": {
      "name": "python"
    }
  },
  "cells": [
    {
      "cell_type": "code",
      "execution_count": 1,
      "metadata": {
        "id": "mNqMtcUUi37h"
      },
      "outputs": [],
      "source": [
        "import numpy as np\n",
        "import matplotlib.pyplot as plt\n",
        "from matplotlib.image import imread"
      ]
    },
    {
      "cell_type": "markdown",
      "source": [
        "# Singular Value Decomposition (SVD) and Principal Component Analysis (PCA)\n",
        "\n",
        "In this notebook, we'll explore two important techniques used in data science: **Singular Value Decomposition (SVD)** for image compression and **Principal Component Analysis (PCA)** for reducing dimensionality in datasets. By the end of this exercise, you should have a good understanding of how these methods work and how to implement them.\n",
        "\n",
        "### **Instructions**:\n",
        "1. Complete each code cell where prompted.\n",
        "2. Follow the hints provided within each task.\n",
        "3. Answer reflection questions thoughtfully based on the outputs of your code.\n",
        "\n",
        "---"
      ],
      "metadata": {
        "id": "i8DVbNCRkiWM"
      }
    },
    {
      "cell_type": "markdown",
      "source": [
        "## **Part 1: SVD for Image Compression**\n",
        "\n",
        "In this section, we'll apply SVD to compress an image. You will explore how reducing the number of singular values affects the quality of the image.\n",
        "\n",
        "### **Task 1: Load and Display the Image**\n",
        "\n",
        "Using the `matplotlib.image.imread` function, load and display an image from a URL. The first step is to visualize the original image."
      ],
      "metadata": {
        "id": "0ekLzLTqqU0o"
      }
    },
    {
      "cell_type": "code",
      "source": [
        "# Copy paste path to image below\n",
        "filename = '/content/IMAGE_NAME.jpeg'  # Replace with the path to your local image\n",
        "\n",
        "# Step 2: Load the image using imread()\n",
        "\n",
        "# Step 3: Display the image using imshow()\n"
      ],
      "metadata": {
        "id": "OPl56cWWlA5y"
      },
      "execution_count": null,
      "outputs": []
    },
    {
      "cell_type": "markdown",
      "source": [
        "### **Task 2: Convert the Image to Grayscale**\n",
        "\n",
        "Using the function `rgb2gray()`, convert the loaded image to grayscale. Grayscale images simplify the SVD process by reducing the image to a single channel."
      ],
      "metadata": {
        "id": "8WNK0NojpGQy"
      }
    },
    {
      "cell_type": "code",
      "source": [
        "# Convert to grayscale using the provided transformation\n",
        "def rgb2gray(rgb):\n",
        "    return np.dot(rgb[...,:3], [0.2989, 0.5870, 0.1140])\n",
        "\n",
        "\n",
        "# Step 4: Apply the rgb2gray function to the image\n",
        "\n",
        "# Step 5: Display the grayscale image using imshow()\n"
      ],
      "metadata": {
        "id": "6vec5uinpNUj"
      },
      "execution_count": null,
      "outputs": []
    },
    {
      "cell_type": "markdown",
      "source": [
        "### **Task 3: Perform SVD on the Grayscale Image**\n",
        "\n",
        "Using `numpy.linalg.svd()`, perform SVD on the grayscale image to decompose it into three matrices: $U$, $\\Sigma$, and $V^T$."
      ],
      "metadata": {
        "id": "lzzhKSY-pbs5"
      }
    },
    {
      "cell_type": "code",
      "source": [
        "# Step 6: Decompose the grayscale image using SVD from numpy.linalg library\n",
        "\n",
        "# Print shapes of U, S, and VT to understand their structure\n"
      ],
      "metadata": {
        "id": "DPtdru9opoMh"
      },
      "execution_count": null,
      "outputs": []
    },
    {
      "cell_type": "markdown",
      "source": [
        "### **Task 4: Reconstruct the Image Using Different Numbers of Singular Values**\n",
        "\n",
        "Define a function `reconstruct_image()` to reconstruct the image using the top $k$ singular values from the $\\Sigma$ matrix. This will allow you to see how the image quality is affected as $k$ increases."
      ],
      "metadata": {
        "id": "LxDTjJHsp35p"
      }
    },
    {
      "cell_type": "code",
      "source": [
        "# Reconstruct the image using k singular values\n",
        "\n",
        "# Step 7: Test the reconstruction function with different values of k\n",
        "\n",
        "# Display the compressed images\n"
      ],
      "metadata": {
        "id": "RxPoFeh_pqbw"
      },
      "execution_count": null,
      "outputs": []
    },
    {
      "cell_type": "markdown",
      "source": [
        "## **Part 2: PCA on a Dataset**\n",
        "\n",
        "In this section, you will apply PCA to the famous Iris dataset to reduce its dimensionality and visualize the data in 2D."
      ],
      "metadata": {
        "id": "FcmjyeyuqXFp"
      }
    },
    {
      "cell_type": "markdown",
      "source": [
        "### **Task 5: Load the Iris Dataset**\n",
        "\n",
        "Using `sklearn.datasets.load_iris`, load the Iris dataset and store it in a DataFrame. You will also add the species labels to the DataFrame."
      ],
      "metadata": {
        "id": "mZokJzM8qbJi"
      }
    },
    {
      "cell_type": "code",
      "source": [
        "from sklearn.datasets import load_iris\n",
        "import pandas as pd\n",
        "\n",
        "# Step 1: Load the Iris dataset\n",
        "iris = load_iris()\n",
        "X = iris.data\n",
        "y = iris.target\n",
        "features = iris.feature_names\n",
        "\n",
        "# Step 2: Create a DataFrame with the feature data\n",
        "\n",
        "# Display the first few rows of the dataset"
      ],
      "metadata": {
        "id": "x-FsxlqWqeib"
      },
      "execution_count": null,
      "outputs": []
    },
    {
      "cell_type": "markdown",
      "source": [
        "### **Task 6: Standardize the Data**\n",
        "\n",
        "Using `sklearn.preprocessing.StandardScaler`, standardize the dataset before applying PCA. Standardization is important to ensure that each feature contributes equally to the PCA results."
      ],
      "metadata": {
        "id": "caTN6dehqi3i"
      }
    },
    {
      "cell_type": "code",
      "source": [
        "from sklearn.preprocessing import StandardScaler\n",
        "\n",
        "# Step 3: Standardize the data using StandardScaler\n",
        "\n",
        "# Print the mean and variance after scaling"
      ],
      "metadata": {
        "id": "8cUnGu1tqlUD"
      },
      "execution_count": null,
      "outputs": []
    },
    {
      "cell_type": "markdown",
      "source": [
        "### **Task 7: Perform PCA**\n",
        "\n",
        "Using `sklearn.decomposition.PCA`, reduce the dimensionality of the Iris dataset to 2 principal components. Store the principal components in a DataFrame for easy visualization."
      ],
      "metadata": {
        "id": "q7K84COnqneV"
      }
    },
    {
      "cell_type": "code",
      "source": [
        "from sklearn.decomposition import PCA\n",
        "\n",
        "# Step 4: Instantiate PCA and reduce to 2 components\n",
        "\n",
        "# Step 5: Create a DataFrame with the principal components\n",
        "\n",
        "# Display the first few rows of the principal component DataFrame"
      ],
      "metadata": {
        "id": "vIDt6l45qqXN"
      },
      "execution_count": null,
      "outputs": []
    },
    {
      "cell_type": "markdown",
      "source": [
        "### **Task 8: Analyze the Results**\n",
        "\n",
        "Using the `explained_variance_ratio_` attribute of the PCA object, check how much of the variance in the data is captured by the two principal components."
      ],
      "metadata": {
        "id": "7_m8Y_Fdqrxk"
      }
    },
    {
      "cell_type": "code",
      "source": [
        "# Step 6: Analyze the explained variance ratio"
      ],
      "metadata": {
        "id": "tWzwRZ48qv-Q"
      },
      "execution_count": null,
      "outputs": []
    },
    {
      "cell_type": "markdown",
      "source": [
        "### **Task 9: Visualize the PCA-Transformed Data**\n",
        "\n",
        "Using `seaborn.scatterplot()`, create a scatter plot of the two principal components, and color the points based on the species."
      ],
      "metadata": {
        "id": "OK4Nyk8-q22X"
      }
    },
    {
      "cell_type": "code",
      "source": [
        "import seaborn as sns\n",
        "\n",
        "# Step 7: Visualize the PCA-transformed data"
      ],
      "metadata": {
        "id": "WjibMcCrrBXO"
      },
      "execution_count": null,
      "outputs": []
    }
  ]
}